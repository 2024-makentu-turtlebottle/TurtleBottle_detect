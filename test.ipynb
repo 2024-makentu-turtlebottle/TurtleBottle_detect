{
 "cells": [
  {
   "cell_type": "code",
   "execution_count": 119,
   "metadata": {},
   "outputs": [],
   "source": [
    "import cv2\n",
    "import numpy as np"
   ]
  },
  {
   "cell_type": "code",
   "execution_count": 120,
   "metadata": {},
   "outputs": [],
   "source": [
    "img = cv2.imread('./imgs/frame_933.jpg')\n",
    "img = cv2.cvtColor(img, cv2.COLOR_BGR2RGB)"
   ]
  },
  {
   "cell_type": "code",
   "execution_count": 121,
   "metadata": {},
   "outputs": [
    {
     "data": {
      "text/plain": [
       "(80, 60, 3)"
      ]
     },
     "execution_count": 121,
     "metadata": {},
     "output_type": "execute_result"
    }
   ],
   "source": [
    "img.shape"
   ]
  },
  {
   "cell_type": "code",
   "execution_count": 122,
   "metadata": {},
   "outputs": [],
   "source": [
    "# dump as c header file, H x W x C\n",
    "H, W, C = img.shape\n",
    "with open('./frame_933.jpg.h', 'w') as f:\n",
    "  f.write('#pragma once\\n')\n",
    "  f.write('#define H {}\\n'.format(H))\n",
    "  f.write('#define W {}\\n'.format(W))\n",
    "  f.write('#define C {}\\n'.format(C))\n",
    "  f.write('unsigned char img[H][W][C] = {\\n')\n",
    "  \n",
    "  for i in range(H):\n",
    "    f.write('  {')\n",
    "    for j in range(W):\n",
    "      f.write('{')\n",
    "      for k in range(C):\n",
    "        f.write('{}, '.format(img[i, j, k]))\n",
    "      f.write('}, ')\n",
    "    f.write('},\\n')\n",
    "  \n",
    "  f.write('};')\n",
    "  "
   ]
  },
  {
   "cell_type": "code",
   "execution_count": 125,
   "metadata": {},
   "outputs": [],
   "source": [
    "import numpy as np\n",
    "import queue   \n",
    "\n",
    "def bfs(img, start):\n",
    "  calculate_distance = lambda x, y: np.sqrt(np.sum((x - y) ** 2))\n",
    "  dirs = [[1, 0], [-1, 0], [0, 1], [0, -1]]\n",
    "  dst = np.zeros(img.shape[:-1])\n",
    "  q = queue.Queue()\n",
    "  q.put(start)\n",
    "  \n",
    "  while not q.empty():\n",
    "    current = q.get()\n",
    "    for dir in dirs:\n",
    "      next_pos = (current[0] + dir[0], current[1] + dir[1])\n",
    "      if 0 <= next_pos[0] < img.shape[0] and 0 <= next_pos[1] < img.shape[1]:\n",
    "        if dst[next_pos] == 0 and calculate_distance(img[next_pos], img[current]) < 12:\n",
    "          dst[next_pos] = 1\n",
    "          q.put(next_pos)\n",
    "\n",
    "  return dst\n",
    "\n",
    "\n",
    "def get_edge(img):\n",
    "  height, width = 80, 60\n",
    "  edgesL = []\n",
    "  for i in range(height):\n",
    "    for j in range(width - 1):\n",
    "      if img[i, j] == 0 and img[i, j+1] == 1:\n",
    "        edgesL.append([j, i])\n",
    "        break\n",
    "      \n",
    "  return np.array(edgesL)"
   ]
  },
  {
   "cell_type": "code",
   "execution_count": 127,
   "metadata": {},
   "outputs": [
    {
     "name": "stdout",
     "output_type": "stream",
     "text": [
      "[-0.07946336 18.27382181]\n"
     ]
    }
   ],
   "source": [
    "img = cv2.imread('./imgs/frame_933.jpg')\n",
    "\n",
    "dst = bfs(img, (img.shape[0]//2-1, img.shape[1]//2-1))\n",
    "edgesL = get_edge(dst)\n",
    "\n",
    "x, y = edgesL[:,0], edgesL[:,1]\n",
    "A = np.vstack([y, np.ones(len(y))]).T\n",
    "\n",
    "AT = A.T\n",
    "ATMA = AT @ A\n",
    "\n",
    "ATMAI = np.linalg.inv(ATMA)\n",
    "\n",
    "ATMAIAT = ATMAI @ AT\n",
    "\n",
    "ATMAIATx = ATMAIAT @ x\n",
    "\n",
    "print(ATMAIATx)"
   ]
  },
  {
   "cell_type": "code",
   "execution_count": 130,
   "metadata": {},
   "outputs": [
    {
     "data": {
      "text/plain": [
       "array([[32., 33., 34., 35., 36., 37., 38., 39., 40., 41., 42., 43., 44.,\n",
       "        45., 46., 47., 48., 49.],\n",
       "       [ 1.,  1.,  1.,  1.,  1.,  1.,  1.,  1.,  1.,  1.,  1.,  1.,  1.,\n",
       "         1.,  1.,  1.,  1.,  1.]])"
      ]
     },
     "execution_count": 130,
     "metadata": {},
     "output_type": "execute_result"
    }
   ],
   "source": [
    "AT"
   ]
  },
  {
   "cell_type": "code",
   "execution_count": 129,
   "metadata": {},
   "outputs": [
    {
     "data": {
      "text/plain": [
       "(2, 18)"
      ]
     },
     "execution_count": 129,
     "metadata": {},
     "output_type": "execute_result"
    }
   ],
   "source": [
    "ATMAIAT.shape"
   ]
  }
 ],
 "metadata": {
  "kernelspec": {
   "display_name": "cv-VXfrBdey-py3.10",
   "language": "python",
   "name": "python3"
  },
  "language_info": {
   "codemirror_mode": {
    "name": "ipython",
    "version": 3
   },
   "file_extension": ".py",
   "mimetype": "text/x-python",
   "name": "python",
   "nbconvert_exporter": "python",
   "pygments_lexer": "ipython3",
   "version": "3.10.11"
  }
 },
 "nbformat": 4,
 "nbformat_minor": 2
}
